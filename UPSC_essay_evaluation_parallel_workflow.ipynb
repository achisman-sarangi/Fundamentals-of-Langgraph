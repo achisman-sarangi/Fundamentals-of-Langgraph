{
 "cells": [
  {
   "cell_type": "code",
   "execution_count": 40,
   "id": "15d9d02b",
   "metadata": {},
   "outputs": [],
   "source": [
    "from langgraph.graph import StateGraph,START,END\n",
    "from langchain_openai import ChatOpenAI\n",
    "from dotenv import load_dotenv\n",
    "from typing import TypedDict,Annotated\n",
    "from pydantic import BaseModel,Field\n",
    "import operator\n"
   ]
  },
  {
   "cell_type": "code",
   "execution_count": 41,
   "id": "2b9d07d1",
   "metadata": {},
   "outputs": [
    {
     "data": {
      "text/plain": [
       "True"
      ]
     },
     "execution_count": 41,
     "metadata": {},
     "output_type": "execute_result"
    }
   ],
   "source": [
    "load_dotenv()"
   ]
  },
  {
   "cell_type": "code",
   "execution_count": 42,
   "id": "b4bedbdb",
   "metadata": {},
   "outputs": [],
   "source": [
    "model = ChatOpenAI(model='gpt-4o-mini')"
   ]
  },
  {
   "cell_type": "code",
   "execution_count": 69,
   "id": "c8ab722d",
   "metadata": {},
   "outputs": [],
   "source": [
    "class EvaluationSchema(BaseModel):\n",
    "\n",
    "    feedback: str = Field(description = \"Detailed feedback for essay\")\n",
    "    score: int = Field(description=\"score essay on a scale of 1 to 10\", ge=0, le=10)"
   ]
  },
  {
   "cell_type": "code",
   "execution_count": 56,
   "id": "8006ab44",
   "metadata": {},
   "outputs": [],
   "source": [
    "structutred_model = model.with_structured_output(EvaluationSchema)"
   ]
  },
  {
   "cell_type": "code",
   "execution_count": 58,
   "id": "0e99ebdb",
   "metadata": {},
   "outputs": [],
   "source": [
    "essay = \"\"\"Artificial Intelligence (AI) plays a transformative role in human development by enhancing efficiency, decision-making, and innovation across various sectors. In healthcare, AI accelerates diagnosis, personalizes treatments, and improves patient outcomes. In education, it enables adaptive learning systems that cater to individual needs, bridging knowledge gaps and promoting lifelong learning. AI also contributes to economic growth by automating repetitive tasks, allowing humans to focus on creativity and strategic thinking. Furthermore, AI supports sustainable development by optimizing energy usage, improving agricultural productivity, and aiding climate research. Its integration in social services helps predict and address societal challenges such as poverty, inequality, and mental health. However, ethical deployment is crucial to ensure inclusivity, privacy, and transparency. As AI continues to evolve, it holds immense potential to empower humanity, fostering a more intelligent, connected, and equitable world. The key lies in responsible innovation and global cooperation to harness AI for the collective good of society\"\"\""
   ]
  },
  {
   "cell_type": "code",
   "execution_count": 59,
   "id": "15695113",
   "metadata": {},
   "outputs": [
    {
     "name": "stdout",
     "output_type": "stream",
     "text": [
      "feedback=\"The essay presents a well-rounded discussion on the transformative role of Artificial Intelligence (AI) in various sectors. It clearly outlines how AI enhances efficiency, decision-making, and innovation in areas such as healthcare, education, and economic development. Each sector is addressed succinctly, with relevant examples that illustrate the benefits of AI. Furthermore, the inclusion of potential ethical concerns surrounding AI's deployment adds depth to the argument, showing an awareness of the challenges that come with technological advancement. However, the essay could benefit from a more robust conclusion that summarizes the main points more cohesively instead of simply reiterating the importance of responsible innovation. Additionally, exploring specific examples or case studies could enhance the arguments presented, making them more compelling. Overall, the writing is coherent and well-structured, but it would be stronger with more concrete examples and a more defined conclusion.\" score=8\n"
     ]
    }
   ],
   "source": [
    "prompt  = f'Evaluate the following essay and provide detailed feedback and a score on a scale of 1 to 10:\\n\\n{essay}'\n",
    "structured_output = structutred_model.invoke(prompt)\n",
    "print(structured_output)"
   ]
  },
  {
   "cell_type": "code",
   "execution_count": 60,
   "id": "cd92a34c",
   "metadata": {},
   "outputs": [],
   "source": [
    "class UPSCState(TypedDict):\n",
    "    essay:str\n",
    "    language_feedback:str\n",
    "    analysis_feedback:str\n",
    "    clarity_feedback:str\n",
    "    overall_feedback:str\n",
    "    score: Annotated[list[int], operator.add]\n",
    "    avg_score:float"
   ]
  },
  {
   "cell_type": "code",
   "execution_count": 61,
   "id": "b8873e2d",
   "metadata": {},
   "outputs": [],
   "source": [
    "def evaluate_language(state: UPSCState) -> UPSCState:\n",
    "    prompt = prompt  = f'Evaluate the language quality following essay and provide detailed feedback and a score on a scale of 1 to 10:\\n\\n{state['essay']}'\n",
    "    structured_output = structutred_model.invoke(prompt)\n",
    "    return {'language_feedback': structured_output.feedback,'individual_score':{structured_output.score}}"
   ]
  },
  {
   "cell_type": "code",
   "execution_count": 62,
   "id": "1eed4641",
   "metadata": {},
   "outputs": [],
   "source": [
    "def evaluate_analysis(state: UPSCState) -> UPSCState:\n",
    "    prompt = prompt  = f'Evaluate the depth of analysis following essay and provide detailed feedback and a score on a scale of 1 to 10:\\n\\n{state['essay']}'\n",
    "    structured_output = structutred_model.invoke(prompt)\n",
    "    return {'analysis_feedback': structured_output.feedback,'individual_score':{structured_output.score}}"
   ]
  },
  {
   "cell_type": "code",
   "execution_count": 51,
   "id": "2611a5d5",
   "metadata": {},
   "outputs": [],
   "source": [
    "def evaluate_thought(state: UPSCState) -> UPSCState:\n",
    "    prompt = prompt  = f'Evaluate the calarity of thought following essay and provide detailed feedback and a score on a scale of 1 to 10:\\n\\n{state['essay']}'\n",
    "    structured_output = structutred_model.invoke(prompt)\n",
    "    return {'clarity_feedback': structured_output.feedback,'individual_score':{structured_output.score}}"
   ]
  },
  {
   "cell_type": "code",
   "execution_count": 66,
   "id": "4f892fff",
   "metadata": {},
   "outputs": [],
   "source": [
    "def final_evaluation(state:UPSCState):\n",
    "    #summary feedback\n",
    "    prompt = f'Based on the following feedback, provide a summary feedback \\n language feedback:{state[\"language_feedback\"]} \\n depth of analysis feedback:{state[\"analysis_feedback\"]} \\n calarity of thought feedback:{state[\"clarity_feedback\"]}'\n",
    "    overall_feedback = model.invoke(prompt).content\n",
    "    #Calculate average score\n",
    "    if 'score' in state and len(state['score']) > 0:\n",
    "        avg_score = sum(state['score']) / len(state['score'])\n",
    "    else:\n",
    "        avg_score = 0 \n",
    "    return {'overall_feedback': overall_feedback, 'avg_score': avg_score}"
   ]
  },
  {
   "cell_type": "code",
   "execution_count": 67,
   "id": "4812e3e0",
   "metadata": {},
   "outputs": [],
   "source": [
    "graph = StateGraph(UPSCState)\n",
    "\n",
    "#Add graph\n",
    "graph.add_node('evaluate_language',evaluate_language)\n",
    "graph.add_node('evaluate_analysis',evaluate_analysis)\n",
    "graph.add_node('evaluate_thought',evaluate_thought)\n",
    "graph.add_node('final_evaluation',final_evaluation)\n",
    "#Add edges\n",
    "graph.add_edge(START,'evaluate_language')\n",
    "graph.add_edge(START,'evaluate_analysis')\n",
    "graph.add_edge(START,'evaluate_thought')\n",
    "\n",
    "graph.add_edge('evaluate_language','final_evaluation')\n",
    "graph.add_edge('evaluate_analysis','final_evaluation')\n",
    "graph.add_edge('evaluate_thought','final_evaluation')\n",
    "\n",
    "graph.add_edge('final_evaluation', END)\n",
    "\n",
    "#Comile the graph\n",
    "workflow = graph.compile()\n",
    "\n",
    "\n",
    "\n",
    "\n",
    "\n",
    "\n"
   ]
  },
  {
   "cell_type": "code",
   "execution_count": 70,
   "id": "06911e8f",
   "metadata": {},
   "outputs": [
    {
     "name": "stdout",
     "output_type": "stream",
     "text": [
      "{'essay': 'Artificial Intelligence (AI) plays a transformative role in human development by enhancing efficiency, decision-making, and innovation across various sectors. In healthcare, AI accelerates diagnosis, personalizes treatments, and improves patient outcomes. In education, it enables adaptive learning systems that cater to individual needs, bridging knowledge gaps and promoting lifelong learning. AI also contributes to economic growth by automating repetitive tasks, allowing humans to focus on creativity and strategic thinking. Furthermore, AI supports sustainable development by optimizing energy usage, improving agricultural productivity, and aiding climate research. Its integration in social services helps predict and address societal challenges such as poverty, inequality, and mental health. However, ethical deployment is crucial to ensure inclusivity, privacy, and transparency. As AI continues to evolve, it holds immense potential to empower humanity, fostering a more intelligent, connected, and equitable world. The key lies in responsible innovation and global cooperation to harness AI for the collective good of society', 'language_feedback': \"The essay presents a well-structured argument about the transformative role of AI in various sectors, highlighting its benefits in healthcare, education, economic growth, sustainable development, and social services. The language used is clear and concise, making complex ideas accessible. The essay effectively outlines both the positive impacts of AI and the importance of ethical considerations in its deployment. However, some areas could be improved: \\n\\n1. **Depth of Discussion**: While the essay lists several sectors where AI has a positive impact, it could benefit from a deeper exploration of specific examples or studies that illustrate these points. \\n\\n2. **Cohesion and Flow**: Although the transition between different areas of AI's impact is generally smooth, adding more connecting phrases could enhance the flow of ideas. For example, explicitly linking how advancements in one sector influence another (e.g., how AI in healthcare can drive innovation in education) would strengthen the narrative. \\n\\n3. **Ethical Considerations**: The mention of ethical deployment is crucial, but it feels somewhat tacked on at the end. Expanding this section to discuss the consequences of failing to address ethics in AI would provide a more balanced view. \\n\\n4. **Conclusion**: The conclusion could be more impactful with a strong call to action or a statement regarding the future trajectory of AI, as this would leave the reader with a compelling final thought.\\n\\nOverall, the essay effectively communicates the role of AI but could benefit from more depth and a stronger conclusion. Improvements in these areas would elevate the quality of the essay significantly.\", 'analysis_feedback': \"The essay provides a solid overview of the transformative role of Artificial Intelligence (AI) in various sectors such as healthcare, education, and economic growth. Here are the strengths and areas for improvement in the analysis:\\n\\nStrengths:\\n1. **Broad Scope**: It successfully covers multiple sectors, illustrating the wide-ranging impact of AI on human development. Each sector mentioned is relevant and showcases different benefits of AI.\\n2. **Clear Structure**: The essay is logically structured, with a clear introduction and conclusion that frames the discussion effectively. This helps the reader to follow the argument smoothly.\\n3. **Recognition of Ethical Concerns**: The mention of ethical deployment, including aspects like privacy and inclusivity, adds depth to the analysis. It acknowledges that while AI has potential benefits, these must be balanced with responsible practices.\\n4. **Optimism About AI's Future**: The conclusion paints a hopeful picture of how AI can contribute positively to society if approached with caution and responsibility.\\n\\nAreas for Improvement:\\n1. **Lack of Depth**: While the essay mentions various impacts of AI, it lacks deeper analysis or examples that would enhance understanding. For instance, specific case studies or statistics could have provided more weight to the arguments presented.\\n2. **Limited Critique**: There is minimal discussion on the potential downsides or challenges posed by AI. A balanced analysis would include counterarguments or potential risks associated with AI, such as job displacement or ethical dilemmas in decision-making.\\n3. **More Specific Applications**: The elaboration on how AI works in the sectors mentioned is sparse. For example, the healthcare section could detail specific AI technologies (like machine learning algorithms) or applications (like telemedicine).\\n4. **Global Perspective**: The mention of global cooperation is important but could benefit from examples of existing initiatives or frameworks aiming to guide the responsible use of AI internationally.\\n\\nOverall, while the essay conveys a positive outlook on AI's role in human development and touches on necessary ethical considerations, it could significantly improve by diving deeper into specific applications, counterarguments, and offering more substantiated evidence. \\n\\nScore: 7/10\", 'clarity_feedback': \"The essay demonstrates a clear and coherent structure, presenting various beneficial impacts of Artificial Intelligence (AI) on human development. The author effectively addresses multiple sectors including healthcare, education, economic growth, sustainable development, and social services, showcasing a broad understanding of the topic.\\\\n\\\\nOne area for improvement is the incorporation of specific examples or case studies that illustrate the claims made. While the statements regarding AI's benefits are compelling, they would be more persuasive with concrete instances or statistics. Additionally, the discussion about ethical deployment is somewhat brief; it would benefit from further elaboration on how these ethical concerns can be addressed in practice. Lastly, the conclusion succinctly captures the essence of responsible innovation and global cooperation, but it could be more impactful with a call to action or some specific recommendations for stakeholders.\\\\n\\\\nOverall, the clarity of thought is strong, and the organization of ideas facilitates understanding. The essay is articulate but would be enhanced by the addition of specific examples and a deeper exploration of ethical considerations. \\n\\nScore: 8\", 'overall_feedback': \"**Summary Feedback:**\\n\\nThe essay provides a clear and well-structured argument regarding the transformative role of Artificial Intelligence (AI) in various sectors such as healthcare, education, economic growth, sustainable development, and social services. It effectively highlights the benefits of AI and acknowledges the importance of ethical considerations in its deployment.\\n\\n**Strengths:**\\n1. **Broad Scope and Clear Structure**: The essay covers multiple sectors effectively, presenting a coherent argument with a logical introduction and conclusion.\\n2. **Recognition of Ethical Concerns**: The inclusion of ethical deployment issues, such as privacy and inclusivity, adds depth to the analysis.\\n3. **Optimistic Outlook**: It ends on a hopeful note regarding AI's potential to positively impact society with responsible practices.\\n\\n**Areas for Improvement:**\\n1. **Depth of Analysis**: The discussion could be enriched by including specific examples, case studies, or statistics to substantiate claims and enhance understanding.\\n2. **Balance of Perspectives**: Consider incorporating counterarguments or potential downsides of AI, such as job displacement or ethical dilemmas, for a more balanced analysis.\\n3. **Detail on Applications**: Expanding on how AI operates within discussed sectors, including specific technologies and applications, would strengthen the arguments.\\n4. **Conclusion Impact**: The conclusion could be made more compelling with a strong call to action or specific recommendations for stakeholders involved in AI deployment.\\n\\nIn summary, while the essay effectively communicates key points about AI's role in human development, enhancing depth, balance, and the conclusion could significantly elevate its overall quality. \\n\\n**Scores:**\\n- Overall Writing Quality: 7/10\\n- Clarity of Thought: 8/10\", 'score': [], 'avg_score': 0}\n"
     ]
    }
   ],
   "source": [
    "intial_state = {\n",
    "    'essay':essay,\n",
    "}\n",
    "\n",
    "final_workflow = workflow.invoke(intial_state)\n",
    "print(final_workflow)"
   ]
  }
 ],
 "metadata": {
  "kernelspec": {
   "display_name": "myenv (3.13.1)",
   "language": "python",
   "name": "python3"
  },
  "language_info": {
   "codemirror_mode": {
    "name": "ipython",
    "version": 3
   },
   "file_extension": ".py",
   "mimetype": "text/x-python",
   "name": "python",
   "nbconvert_exporter": "python",
   "pygments_lexer": "ipython3",
   "version": "3.13.1"
  }
 },
 "nbformat": 4,
 "nbformat_minor": 5
}
