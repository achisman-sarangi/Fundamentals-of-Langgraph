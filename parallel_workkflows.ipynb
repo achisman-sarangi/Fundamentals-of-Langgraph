{
 "cells": [
  {
   "cell_type": "code",
   "execution_count": 9,
   "id": "10487e46",
   "metadata": {},
   "outputs": [],
   "source": [
    "from langgraph.graph import StateGraph, START, END\n",
    "from typing import TypedDict\n"
   ]
  },
  {
   "cell_type": "code",
   "execution_count": 10,
   "id": "cd7a4daf",
   "metadata": {},
   "outputs": [],
   "source": [
    "class BatsmanState(TypedDict):\n",
    "    runs: int\n",
    "    balls: int\n",
    "    fours: int\n",
    "    sixes: int\n",
    "\n",
    "    sr: float\n",
    "    bpd: float\n",
    "    boundary_percentage: float\n"
   ]
  },
  {
   "cell_type": "code",
   "execution_count": 21,
   "id": "bd961554",
   "metadata": {},
   "outputs": [],
   "source": [
    "#Define the functions of calculate different parameters\n",
    "def calculate_str(state:BatsmanState) -> BatsmanState:\n",
    "    sr = state['str'] = state['runs'] / state['balls'] * 100\n",
    "    return {'sr':sr}"
   ]
  },
  {
   "cell_type": "code",
   "execution_count": 22,
   "id": "69754952",
   "metadata": {},
   "outputs": [],
   "source": [
    "#calculate BPD\n",
    "def calculate_bpd(state:BatsmanState) -> BatsmanState:\n",
    "    bpd = state['bpd'] = state['balls'] / state['runs']\n",
    "    return {'bpd':bpd}"
   ]
  },
  {
   "cell_type": "code",
   "execution_count": 23,
   "id": "c9b547f7",
   "metadata": {},
   "outputs": [],
   "source": [
    "#calculate boundary percentage\n",
    "def calculate_boundary_percentage(state:BatsmanState) -> BatsmanState:\n",
    "    total_boundaries = state['fours'] + state['sixes']\n",
    "    boundary_percentage = state['boundary_percentage'] = (total_boundaries/ state['balls'])*100\n",
    "    return {'boundary_percentage': boundary_percentage}"
   ]
  },
  {
   "cell_type": "code",
   "execution_count": 25,
   "id": "d29d9fd5",
   "metadata": {},
   "outputs": [],
   "source": [
    "#Generate the summary\n",
    "def summary(state:BatsmanState) -> str:\n",
    "    summary = f\"\"\"\n",
    "    strike rate: {state['sr']}\n",
    "    bpd: {state['bpd']}\n",
    "    bundary percentage: {state['boundary_percentage']}\n",
    "    \"\"\"\n",
    "    return {'summary': summary}"
   ]
  },
  {
   "cell_type": "code",
   "execution_count": 26,
   "id": "3bd16cce",
   "metadata": {},
   "outputs": [
    {
     "name": "stdout",
     "output_type": "stream",
     "text": [
      "<langgraph.graph.state.CompiledStateGraph object at 0x000001C9E9FCCE90>\n"
     ]
    }
   ],
   "source": [
    "graph = StateGraph(BatsmanState)\n",
    "#Add nodes to the graph\n",
    "graph.add_node('calculate_str', calculate_str)\n",
    "graph.add_node('calculate_bpd', calculate_bpd)\n",
    "graph.add_node('calculate_boundary_percentage', calculate_boundary_percentage)\n",
    "graph.add_node('summary', summary)\n",
    "#Add edges to the graph\n",
    "graph.add_edge(START,'calculate_str')\n",
    "graph.add_edge(START,'calculate_bpd')\n",
    "graph.add_edge(START,'calculate_boundary_percentage')\n",
    "\n",
    "graph.add_edge('calculate_str', 'summary')\n",
    "graph.add_edge('calculate_bpd', 'summary')\n",
    "graph.add_edge('calculate_boundary_percentage', 'summary')\n",
    "\n",
    "graph.add_edge('summary', END)\n",
    "\n",
    "\n",
    "#Compile the graph\n",
    "workflow = graph.compile()\n",
    "print(workflow)"
   ]
  },
  {
   "cell_type": "code",
   "execution_count": 28,
   "id": "7d66a2cd",
   "metadata": {},
   "outputs": [
    {
     "name": "stdout",
     "output_type": "stream",
     "text": [
      "{'runs': 110, 'balls': 60, 'fours': 6, 'sixes': 4, 'sr': 183.33333333333331, 'bpd': 0.5454545454545454, 'boundary_percentage': 16.666666666666664}\n"
     ]
    }
   ],
   "source": [
    "intial_state = {\n",
    "    'runs':110,\n",
    "    'balls': 60,\n",
    "    'fours':6,\n",
    "    'sixes':4\n",
    "\n",
    "}\n",
    "\n",
    "final_workflow = workflow.invoke(intial_state)\n",
    "print(final_workflow)"
   ]
  },
  {
   "cell_type": "code",
   "execution_count": 29,
   "id": "0e80a65f",
   "metadata": {},
   "outputs": [
    {
     "data": {
      "image/png": "[encoded data removed]",
      "text/plain": [
       "<IPython.core.display.Image object>"
      ]
     },
     "execution_count": 29,
     "metadata": {},
     "output_type": "execute_result"
    }
   ],
   "source": [
    "#show the graph\n",
    "from IPython.display import Image\n",
    "Image(workflow.get_graph().draw_mermaid_png())"
   ]
  },
  {
   "cell_type": "code",
   "execution_count": null,
   "id": "6b1c8b39",
   "metadata": {},
   "outputs": [],
   "source": []
  }
 ],
 "metadata": {
  "kernelspec": {
   "display_name": "myenv (3.13.1)",
   "language": "python",
   "name": "python3"
  },
  "language_info": {
   "codemirror_mode": {
    "name": "ipython",
    "version": 3
   },
   "file_extension": ".py",
   "mimetype": "text/x-python",
   "name": "python",
   "nbconvert_exporter": "python",
   "pygments_lexer": "ipython3",
   "version": "3.13.1"
  }
 },
 "nbformat": 4,
 "nbformat_minor": 5
}
